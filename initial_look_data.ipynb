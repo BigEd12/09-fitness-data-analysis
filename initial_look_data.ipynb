{
 "cells": [
  {
   "cell_type": "code",
   "execution_count": 20,
   "id": "03a5af05",
   "metadata": {},
   "outputs": [],
   "source": [
    "import pandas as pd\n",
    "import matplotlib.pyplot as plt\n",
    "import plotly.express as px\n",
    "import geopandas as gpd\n",
    "\n",
    "import contextily as ctx\n",
    "\n",
    "import xml.etree.ElementTree as ET"
   ]
  },
  {
   "cell_type": "code",
   "execution_count": 21,
   "id": "f33438ce",
   "metadata": {},
   "outputs": [],
   "source": [
    "tree = ET.parse('data/ride.tcx')\n",
    "root = tree.getroot()"
   ]
  },
  {
   "cell_type": "code",
   "execution_count": 22,
   "id": "447f0180",
   "metadata": {},
   "outputs": [],
   "source": [
    "data = []\n",
    "for trackpoint in root.findall('.//{http://www.garmin.com/xmlschemas/TrainingCenterDatabase/v2}Trackpoint'):\n",
    "    time = trackpoint.find('{http://www.garmin.com/xmlschemas/TrainingCenterDatabase/v2}Time').text\n",
    "    lat = trackpoint.find('{http://www.garmin.com/xmlschemas/TrainingCenterDatabase/v2}Position/{http://www.garmin.com/xmlschemas/TrainingCenterDatabase/v2}LatitudeDegrees').text\n",
    "    lon = trackpoint.find('{http://www.garmin.com/xmlschemas/TrainingCenterDatabase/v2}Position/{http://www.garmin.com/xmlschemas/TrainingCenterDatabase/v2}LongitudeDegrees').text\n",
    "    data.append([time, float(lat), float(lon)])\n",
    "\n",
    "df = pd.DataFrame(data, columns=['Time', 'Latitude', 'Longitude'])"
   ]
  },
  {
   "cell_type": "code",
   "execution_count": 23,
   "id": "2e797e4e",
   "metadata": {
    "scrolled": true
   },
   "outputs": [
    {
     "data": {
      "text/html": [
       "<div>\n",
       "<style scoped>\n",
       "    .dataframe tbody tr th:only-of-type {\n",
       "        vertical-align: middle;\n",
       "    }\n",
       "\n",
       "    .dataframe tbody tr th {\n",
       "        vertical-align: top;\n",
       "    }\n",
       "\n",
       "    .dataframe thead th {\n",
       "        text-align: right;\n",
       "    }\n",
       "</style>\n",
       "<table border=\"1\" class=\"dataframe\">\n",
       "  <thead>\n",
       "    <tr style=\"text-align: right;\">\n",
       "      <th></th>\n",
       "      <th>Time</th>\n",
       "      <th>Latitude</th>\n",
       "      <th>Longitude</th>\n",
       "    </tr>\n",
       "  </thead>\n",
       "  <tbody>\n",
       "    <tr>\n",
       "      <th>0</th>\n",
       "      <td>2023-09-22T22:41:40+00:00</td>\n",
       "      <td>37.998980</td>\n",
       "      <td>-1.13315</td>\n",
       "    </tr>\n",
       "    <tr>\n",
       "      <th>1</th>\n",
       "      <td>2023-09-22T22:41:49+00:00</td>\n",
       "      <td>37.998233</td>\n",
       "      <td>-1.13288</td>\n",
       "    </tr>\n",
       "    <tr>\n",
       "      <th>2</th>\n",
       "      <td>2023-09-22T22:41:59+00:00</td>\n",
       "      <td>37.997487</td>\n",
       "      <td>-1.13261</td>\n",
       "    </tr>\n",
       "    <tr>\n",
       "      <th>3</th>\n",
       "      <td>2023-09-22T22:42:09+00:00</td>\n",
       "      <td>37.996740</td>\n",
       "      <td>-1.13234</td>\n",
       "    </tr>\n",
       "    <tr>\n",
       "      <th>4</th>\n",
       "      <td>2023-09-22T22:42:19+00:00</td>\n",
       "      <td>37.996590</td>\n",
       "      <td>-1.13301</td>\n",
       "    </tr>\n",
       "  </tbody>\n",
       "</table>\n",
       "</div>"
      ],
      "text/plain": [
       "                        Time   Latitude  Longitude\n",
       "0  2023-09-22T22:41:40+00:00  37.998980   -1.13315\n",
       "1  2023-09-22T22:41:49+00:00  37.998233   -1.13288\n",
       "2  2023-09-22T22:41:59+00:00  37.997487   -1.13261\n",
       "3  2023-09-22T22:42:09+00:00  37.996740   -1.13234\n",
       "4  2023-09-22T22:42:19+00:00  37.996590   -1.13301"
      ]
     },
     "execution_count": 23,
     "metadata": {},
     "output_type": "execute_result"
    }
   ],
   "source": [
    "df.head()"
   ]
  },
  {
   "cell_type": "markdown",
   "id": "5e667e08",
   "metadata": {},
   "source": [
    "# Calculating the distance"
   ]
  },
  {
   "cell_type": "code",
   "execution_count": 6,
   "id": "98adbbd4",
   "metadata": {},
   "outputs": [],
   "source": [
    "import pandas as pd\n",
    "from math import radians, sin, cos, sqrt, atan2"
   ]
  },
  {
   "cell_type": "code",
   "execution_count": 7,
   "id": "1f678ecf",
   "metadata": {},
   "outputs": [],
   "source": [
    "def haversine(lat1, lon1, lat2, lon2):\n",
    "    R = 6371\n",
    "    \n",
    "    lat1 = radians(lat1)\n",
    "    lon1 = radians(lon1)\n",
    "    lat2 = radians(lat2)\n",
    "    lon2 = radians(lon2)\n",
    "    \n",
    "    dlon = lon2 - lon1\n",
    "    dlat = lat2 - lat1\n",
    "    \n",
    "    a = sin(dlat / 2) ** 2 + cos(lat1) * cos(lat2) * sin(dlon / 2) ** 2\n",
    "    c = 2 * atan2(sqrt(a), sqrt(1 - a))\n",
    "    \n",
    "    distance = R * c\n",
    "    return distance"
   ]
  },
  {
   "cell_type": "code",
   "execution_count": 8,
   "id": "5a159764",
   "metadata": {},
   "outputs": [
    {
     "data": {
      "text/plain": [
       "'Total Distance: 84.79 km'"
      ]
     },
     "execution_count": 8,
     "metadata": {},
     "output_type": "execute_result"
    }
   ],
   "source": [
    "total_distance = 0\n",
    "for i in range(1, len(df)):\n",
    "    lat1, lon1 = df['Latitude'][i - 1], df['Longitude'][i - 1]\n",
    "    lat2, lon2 = df['Latitude'][i], df['Longitude'][i]\n",
    "    \n",
    "    seg_distance = haversine(lat1, lon1, lat2, lon2)\n",
    "    total_distance += seg_distance\n",
    "    \n",
    "f\"Total Distance: {total_distance:.2f} km\""
   ]
  },
  {
   "cell_type": "markdown",
   "id": "82aa1927",
   "metadata": {},
   "source": [
    "# Calculating the duration"
   ]
  },
  {
   "cell_type": "code",
   "execution_count": 24,
   "id": "567c6000",
   "metadata": {},
   "outputs": [
    {
     "data": {
      "text/html": [
       "<div>\n",
       "<style scoped>\n",
       "    .dataframe tbody tr th:only-of-type {\n",
       "        vertical-align: middle;\n",
       "    }\n",
       "\n",
       "    .dataframe tbody tr th {\n",
       "        vertical-align: top;\n",
       "    }\n",
       "\n",
       "    .dataframe thead th {\n",
       "        text-align: right;\n",
       "    }\n",
       "</style>\n",
       "<table border=\"1\" class=\"dataframe\">\n",
       "  <thead>\n",
       "    <tr style=\"text-align: right;\">\n",
       "      <th></th>\n",
       "      <th>Time</th>\n",
       "      <th>Latitude</th>\n",
       "      <th>Longitude</th>\n",
       "    </tr>\n",
       "  </thead>\n",
       "  <tbody>\n",
       "    <tr>\n",
       "      <th>0</th>\n",
       "      <td>2023-09-22T22:41:40+00:00</td>\n",
       "      <td>37.998980</td>\n",
       "      <td>-1.13315</td>\n",
       "    </tr>\n",
       "    <tr>\n",
       "      <th>1</th>\n",
       "      <td>2023-09-22T22:41:49+00:00</td>\n",
       "      <td>37.998233</td>\n",
       "      <td>-1.13288</td>\n",
       "    </tr>\n",
       "    <tr>\n",
       "      <th>2</th>\n",
       "      <td>2023-09-22T22:41:59+00:00</td>\n",
       "      <td>37.997487</td>\n",
       "      <td>-1.13261</td>\n",
       "    </tr>\n",
       "    <tr>\n",
       "      <th>3</th>\n",
       "      <td>2023-09-22T22:42:09+00:00</td>\n",
       "      <td>37.996740</td>\n",
       "      <td>-1.13234</td>\n",
       "    </tr>\n",
       "    <tr>\n",
       "      <th>4</th>\n",
       "      <td>2023-09-22T22:42:19+00:00</td>\n",
       "      <td>37.996590</td>\n",
       "      <td>-1.13301</td>\n",
       "    </tr>\n",
       "  </tbody>\n",
       "</table>\n",
       "</div>"
      ],
      "text/plain": [
       "                        Time   Latitude  Longitude\n",
       "0  2023-09-22T22:41:40+00:00  37.998980   -1.13315\n",
       "1  2023-09-22T22:41:49+00:00  37.998233   -1.13288\n",
       "2  2023-09-22T22:41:59+00:00  37.997487   -1.13261\n",
       "3  2023-09-22T22:42:09+00:00  37.996740   -1.13234\n",
       "4  2023-09-22T22:42:19+00:00  37.996590   -1.13301"
      ]
     },
     "execution_count": 24,
     "metadata": {},
     "output_type": "execute_result"
    }
   ],
   "source": [
    "df.head()"
   ]
  },
  {
   "cell_type": "code",
   "execution_count": 25,
   "id": "0011868d",
   "metadata": {},
   "outputs": [],
   "source": [
    "df['Time'] = pd.to_datetime(df['Time'])"
   ]
  },
  {
   "cell_type": "code",
   "execution_count": 30,
   "id": "f4f26de0",
   "metadata": {},
   "outputs": [
    {
     "data": {
      "text/plain": [
       "'Total Moving Time: 0 days 04:04:31'"
      ]
     },
     "metadata": {},
     "output_type": "display_data"
    },
    {
     "data": {
      "text/plain": [
       "'Total Elapsed Time: 0 days 04:04:31'"
      ]
     },
     "metadata": {},
     "output_type": "display_data"
    }
   ],
   "source": [
    "df = df.sort_values(by='Time')\n",
    "df['TimeDiff'] = df['Time'].diff()\n",
    "total_moving_time = df['TimeDiff'].sum()\n",
    "total_elapsed_time = df['Time'].iloc[-1] - df['Time'].iloc[0]\n",
    "\n",
    "display(f\"Total Moving Time: {total_moving_time}\")\n",
    "display(f\"Total Elapsed Time: {total_elapsed_time}\")"
   ]
  },
  {
   "cell_type": "code",
   "execution_count": null,
   "id": "5e4fba1d",
   "metadata": {},
   "outputs": [],
   "source": [
    "df."
   ]
  },
  {
   "cell_type": "code",
   "execution_count": null,
   "id": "2f3ef966",
   "metadata": {},
   "outputs": [],
   "source": []
  },
  {
   "cell_type": "code",
   "execution_count": null,
   "id": "84aa21eb",
   "metadata": {},
   "outputs": [],
   "source": []
  },
  {
   "cell_type": "code",
   "execution_count": null,
   "id": "42cfbc7a",
   "metadata": {},
   "outputs": [],
   "source": []
  },
  {
   "cell_type": "code",
   "execution_count": null,
   "id": "aece52a5",
   "metadata": {},
   "outputs": [],
   "source": []
  },
  {
   "cell_type": "code",
   "execution_count": null,
   "id": "9785839b",
   "metadata": {},
   "outputs": [],
   "source": []
  },
  {
   "cell_type": "code",
   "execution_count": null,
   "id": "4ccb1eb6",
   "metadata": {},
   "outputs": [],
   "source": []
  },
  {
   "cell_type": "code",
   "execution_count": null,
   "id": "6fe8550d",
   "metadata": {},
   "outputs": [],
   "source": []
  },
  {
   "cell_type": "code",
   "execution_count": null,
   "id": "a5f3f408",
   "metadata": {},
   "outputs": [],
   "source": [
    "import geopandas as gpd\n",
    "import plotly.express as px\n",
    "\n",
    "# Replace 'YOUR_MAPBOX_ACCESS_TOKEN' with your actual Mapbox access token\n",
    "mapbox_access_token = 'YOUR_MAPBOX_ACCESS_TOKEN'\n",
    "\n",
    "# Create a GeoDataFrame from your DataFrame\n",
    "gdf = gpd.GeoDataFrame(\n",
    "    df,\n",
    "    geometry=gpd.points_from_xy(df.Longitude, df.Latitude),\n",
    "    crs=\"EPSG:4326\"\n",
    ")\n",
    "\n",
    "# Create a scatter map using Plotly Express\n",
    "fig = px.scatter_geo(gdf, lon=\"Longitude\", lat=\"Latitude\")\n",
    "\n",
    "# Add map tiles as a background layer using Mapbox\n",
    "fig.update_geos(\n",
    "    projection_type=\"mercator\",  # Use Mercator projection\n",
    "    showland=True,\n",
    "    landcolor=\"white\",  # Set the land color\n",
    "    center=dict(lat=0, lon=0),  # Set the initial map center\n",
    ")\n",
    "fig.update_layout(\n",
    "    title=\"Interactive GeoPandas Plot with Basemap\",\n",
    "    mapbox=dict(\n",
    "        style=\"satellite-streets\",  # You can choose different map styles here\n",
    "        center=dict(lat=0, lon=0),  # Set the initial map center\n",
    "        zoom=2,  # Adjust the initial zoom level\n",
    "    ),\n",
    ")\n",
    "\n",
    "# Show the plot\n",
    "fig.show()\n"
   ]
  }
 ],
 "metadata": {
  "kernelspec": {
   "display_name": "Python 3 (ipykernel)",
   "language": "python",
   "name": "python3"
  },
  "language_info": {
   "codemirror_mode": {
    "name": "ipython",
    "version": 3
   },
   "file_extension": ".py",
   "mimetype": "text/x-python",
   "name": "python",
   "nbconvert_exporter": "python",
   "pygments_lexer": "ipython3",
   "version": "3.10.6"
  },
  "toc": {
   "base_numbering": 1,
   "nav_menu": {},
   "number_sections": true,
   "sideBar": true,
   "skip_h1_title": false,
   "title_cell": "Table of Contents",
   "title_sidebar": "Contents",
   "toc_cell": false,
   "toc_position": {},
   "toc_section_display": true,
   "toc_window_display": false
  }
 },
 "nbformat": 4,
 "nbformat_minor": 5
}
