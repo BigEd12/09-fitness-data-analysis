{
 "cells": [
  {
   "cell_type": "code",
   "execution_count": 204,
   "id": "03a5af05",
   "metadata": {},
   "outputs": [],
   "source": [
    "import pandas as pd\n",
    "import matplotlib.pyplot as plt\n",
    "import plotly.express as px\n",
    "import geopandas as gpd\n",
    "\n",
    "import contextily as ctx\n",
    "\n",
    "import xml.etree.ElementTree as ET"
   ]
  },
  {
   "cell_type": "code",
   "execution_count": 205,
   "id": "f33438ce",
   "metadata": {},
   "outputs": [],
   "source": [
    "tree = ET.parse('data/ride.tcx')\n",
    "root = tree.getroot()"
   ]
  },
  {
   "cell_type": "code",
   "execution_count": 206,
   "id": "447f0180",
   "metadata": {},
   "outputs": [],
   "source": [
    "data = []\n",
    "for trackpoint in root.findall('.//{http://www.garmin.com/xmlschemas/TrainingCenterDatabase/v2}Trackpoint'):\n",
    "    time = trackpoint.find('{http://www.garmin.com/xmlschemas/TrainingCenterDatabase/v2}Time').text\n",
    "    lat = trackpoint.find('{http://www.garmin.com/xmlschemas/TrainingCenterDatabase/v2}Position/{http://www.garmin.com/xmlschemas/TrainingCenterDatabase/v2}LatitudeDegrees').text\n",
    "    lon = trackpoint.find('{http://www.garmin.com/xmlschemas/TrainingCenterDatabase/v2}Position/{http://www.garmin.com/xmlschemas/TrainingCenterDatabase/v2}LongitudeDegrees').text\n",
    "    altitude = trackpoint.find('{http://www.garmin.com/xmlschemas/TrainingCenterDatabase/v2}AltitudeMeters').text\n",
    "    distance = trackpoint.find('{http://www.garmin.com/xmlschemas/TrainingCenterDatabase/v2}DistanceMeters').text\n",
    "    data.append([time, float(lat), float(lon), float(altitude), float(distance)])\n",
    "\n",
    "df = pd.DataFrame(data, columns=['Time', 'Latitude', 'Longitude', 'AltitudeMeters', 'DistanceMeters'])\n"
   ]
  },
  {
   "cell_type": "code",
   "execution_count": 207,
   "id": "2e797e4e",
   "metadata": {
    "scrolled": true
   },
   "outputs": [
    {
     "data": {
      "text/html": [
       "<div>\n",
       "<style scoped>\n",
       "    .dataframe tbody tr th:only-of-type {\n",
       "        vertical-align: middle;\n",
       "    }\n",
       "\n",
       "    .dataframe tbody tr th {\n",
       "        vertical-align: top;\n",
       "    }\n",
       "\n",
       "    .dataframe thead th {\n",
       "        text-align: right;\n",
       "    }\n",
       "</style>\n",
       "<table border=\"1\" class=\"dataframe\">\n",
       "  <thead>\n",
       "    <tr style=\"text-align: right;\">\n",
       "      <th></th>\n",
       "      <th>Time</th>\n",
       "      <th>Latitude</th>\n",
       "      <th>Longitude</th>\n",
       "      <th>AltitudeMeters</th>\n",
       "      <th>DistanceMeters</th>\n",
       "    </tr>\n",
       "  </thead>\n",
       "  <tbody>\n",
       "    <tr>\n",
       "      <th>0</th>\n",
       "      <td>2023-09-22T22:41:40+00:00</td>\n",
       "      <td>37.998980</td>\n",
       "      <td>-1.13315</td>\n",
       "      <td>46.02</td>\n",
       "      <td>0.000000</td>\n",
       "    </tr>\n",
       "    <tr>\n",
       "      <th>1</th>\n",
       "      <td>2023-09-22T22:41:49+00:00</td>\n",
       "      <td>37.998233</td>\n",
       "      <td>-1.13288</td>\n",
       "      <td>45.98</td>\n",
       "      <td>86.408879</td>\n",
       "    </tr>\n",
       "    <tr>\n",
       "      <th>2</th>\n",
       "      <td>2023-09-22T22:41:59+00:00</td>\n",
       "      <td>37.997487</td>\n",
       "      <td>-1.13261</td>\n",
       "      <td>45.68</td>\n",
       "      <td>172.817758</td>\n",
       "    </tr>\n",
       "    <tr>\n",
       "      <th>3</th>\n",
       "      <td>2023-09-22T22:42:09+00:00</td>\n",
       "      <td>37.996740</td>\n",
       "      <td>-1.13234</td>\n",
       "      <td>43.00</td>\n",
       "      <td>259.226638</td>\n",
       "    </tr>\n",
       "    <tr>\n",
       "      <th>4</th>\n",
       "      <td>2023-09-22T22:42:19+00:00</td>\n",
       "      <td>37.996590</td>\n",
       "      <td>-1.13301</td>\n",
       "      <td>43.69</td>\n",
       "      <td>320.315240</td>\n",
       "    </tr>\n",
       "  </tbody>\n",
       "</table>\n",
       "</div>"
      ],
      "text/plain": [
       "                        Time   Latitude  Longitude  AltitudeMeters  \\\n",
       "0  2023-09-22T22:41:40+00:00  37.998980   -1.13315           46.02   \n",
       "1  2023-09-22T22:41:49+00:00  37.998233   -1.13288           45.98   \n",
       "2  2023-09-22T22:41:59+00:00  37.997487   -1.13261           45.68   \n",
       "3  2023-09-22T22:42:09+00:00  37.996740   -1.13234           43.00   \n",
       "4  2023-09-22T22:42:19+00:00  37.996590   -1.13301           43.69   \n",
       "\n",
       "   DistanceMeters  \n",
       "0        0.000000  \n",
       "1       86.408879  \n",
       "2      172.817758  \n",
       "3      259.226638  \n",
       "4      320.315240  "
      ]
     },
     "execution_count": 207,
     "metadata": {},
     "output_type": "execute_result"
    }
   ],
   "source": [
    "df.head()"
   ]
  },
  {
   "cell_type": "markdown",
   "id": "0fe56603",
   "metadata": {},
   "source": [
    "### Imports"
   ]
  },
  {
   "cell_type": "code",
   "execution_count": 208,
   "id": "455cdaec",
   "metadata": {},
   "outputs": [],
   "source": [
    "import pandas as pd\n",
    "from math import radians, sin, cos, sqrt, atan2"
   ]
  },
  {
   "cell_type": "code",
   "execution_count": null,
   "id": "c02e534a",
   "metadata": {},
   "outputs": [],
   "source": []
  },
  {
   "cell_type": "code",
   "execution_count": null,
   "id": "74f2b56d",
   "metadata": {},
   "outputs": [],
   "source": []
  },
  {
   "cell_type": "markdown",
   "id": "662287f6",
   "metadata": {},
   "source": [
    "### Add to DF"
   ]
  },
  {
   "cell_type": "code",
   "execution_count": 209,
   "id": "de0429a6",
   "metadata": {},
   "outputs": [],
   "source": [
    "def seg_speed(row):\n",
    "    if row.name == 0:\n",
    "        return float('NaN')\n",
    "    \n",
    "    seconds = row['TimeDiff'].total_seconds()\n",
    "    distance_diff = row['DistanceMeters'] - df.loc[row.name - 1, 'DistanceMeters']\n",
    "    \n",
    "    return (distance_diff / 1000) / (seconds / 3600)"
   ]
  },
  {
   "cell_type": "code",
   "execution_count": 210,
   "id": "e2050ecf",
   "metadata": {},
   "outputs": [],
   "source": [
    "def prepare_df(df):\n",
    "    df['Time'] = pd.to_datetime(df['Time'])\n",
    "\n",
    "    df['TimeDiff'] = df['Time'].diff()\n",
    "    \n",
    "    df['AltitudeChange'] = df['AltitudeMeters'].diff()\n",
    "    \n",
    "    df['SegmentSpeed'] = df.apply(seg_speed, axis=1)"
   ]
  },
  {
   "cell_type": "code",
   "execution_count": 211,
   "id": "e824e256",
   "metadata": {},
   "outputs": [
    {
     "data": {
      "text/html": [
       "<div>\n",
       "<style scoped>\n",
       "    .dataframe tbody tr th:only-of-type {\n",
       "        vertical-align: middle;\n",
       "    }\n",
       "\n",
       "    .dataframe tbody tr th {\n",
       "        vertical-align: top;\n",
       "    }\n",
       "\n",
       "    .dataframe thead th {\n",
       "        text-align: right;\n",
       "    }\n",
       "</style>\n",
       "<table border=\"1\" class=\"dataframe\">\n",
       "  <thead>\n",
       "    <tr style=\"text-align: right;\">\n",
       "      <th></th>\n",
       "      <th>Time</th>\n",
       "      <th>Latitude</th>\n",
       "      <th>Longitude</th>\n",
       "      <th>AltitudeMeters</th>\n",
       "      <th>DistanceMeters</th>\n",
       "      <th>TimeDiff</th>\n",
       "      <th>AltitudeChange</th>\n",
       "      <th>SegmentSpeed</th>\n",
       "    </tr>\n",
       "  </thead>\n",
       "  <tbody>\n",
       "    <tr>\n",
       "      <th>0</th>\n",
       "      <td>2023-09-22 22:41:40+00:00</td>\n",
       "      <td>37.998980</td>\n",
       "      <td>-1.13315</td>\n",
       "      <td>46.02</td>\n",
       "      <td>0.000000</td>\n",
       "      <td>NaT</td>\n",
       "      <td>NaN</td>\n",
       "      <td>NaN</td>\n",
       "    </tr>\n",
       "    <tr>\n",
       "      <th>1</th>\n",
       "      <td>2023-09-22 22:41:49+00:00</td>\n",
       "      <td>37.998233</td>\n",
       "      <td>-1.13288</td>\n",
       "      <td>45.98</td>\n",
       "      <td>86.408879</td>\n",
       "      <td>0 days 00:00:09</td>\n",
       "      <td>-0.04</td>\n",
       "      <td>34.563552</td>\n",
       "    </tr>\n",
       "    <tr>\n",
       "      <th>2</th>\n",
       "      <td>2023-09-22 22:41:59+00:00</td>\n",
       "      <td>37.997487</td>\n",
       "      <td>-1.13261</td>\n",
       "      <td>45.68</td>\n",
       "      <td>172.817758</td>\n",
       "      <td>0 days 00:00:10</td>\n",
       "      <td>-0.30</td>\n",
       "      <td>31.107196</td>\n",
       "    </tr>\n",
       "    <tr>\n",
       "      <th>3</th>\n",
       "      <td>2023-09-22 22:42:09+00:00</td>\n",
       "      <td>37.996740</td>\n",
       "      <td>-1.13234</td>\n",
       "      <td>43.00</td>\n",
       "      <td>259.226638</td>\n",
       "      <td>0 days 00:00:10</td>\n",
       "      <td>-2.68</td>\n",
       "      <td>31.107197</td>\n",
       "    </tr>\n",
       "    <tr>\n",
       "      <th>4</th>\n",
       "      <td>2023-09-22 22:42:19+00:00</td>\n",
       "      <td>37.996590</td>\n",
       "      <td>-1.13301</td>\n",
       "      <td>43.69</td>\n",
       "      <td>320.315240</td>\n",
       "      <td>0 days 00:00:10</td>\n",
       "      <td>0.69</td>\n",
       "      <td>21.991897</td>\n",
       "    </tr>\n",
       "  </tbody>\n",
       "</table>\n",
       "</div>"
      ],
      "text/plain": [
       "                       Time   Latitude  Longitude  AltitudeMeters  \\\n",
       "0 2023-09-22 22:41:40+00:00  37.998980   -1.13315           46.02   \n",
       "1 2023-09-22 22:41:49+00:00  37.998233   -1.13288           45.98   \n",
       "2 2023-09-22 22:41:59+00:00  37.997487   -1.13261           45.68   \n",
       "3 2023-09-22 22:42:09+00:00  37.996740   -1.13234           43.00   \n",
       "4 2023-09-22 22:42:19+00:00  37.996590   -1.13301           43.69   \n",
       "\n",
       "   DistanceMeters        TimeDiff  AltitudeChange  SegmentSpeed  \n",
       "0        0.000000             NaT             NaN           NaN  \n",
       "1       86.408879 0 days 00:00:09           -0.04     34.563552  \n",
       "2      172.817758 0 days 00:00:10           -0.30     31.107196  \n",
       "3      259.226638 0 days 00:00:10           -2.68     31.107197  \n",
       "4      320.315240 0 days 00:00:10            0.69     21.991897  "
      ]
     },
     "execution_count": 211,
     "metadata": {},
     "output_type": "execute_result"
    }
   ],
   "source": [
    "prepare_df(df)\n",
    "df.head()"
   ]
  },
  {
   "cell_type": "markdown",
   "id": "bfb3f61d",
   "metadata": {},
   "source": [
    "### Functions"
   ]
  },
  {
   "cell_type": "code",
   "execution_count": null,
   "id": "2b37172d",
   "metadata": {},
   "outputs": [],
   "source": [
    "def haversine(lat1, lon1, lat2, lon2):\n",
    "    R = 6371\n",
    "    \n",
    "    lat1 = radians(lat1)\n",
    "    lon1 = radians(lon1)\n",
    "    lat2 = radians(lat2)\n",
    "    lon2 = radians(lon2)\n",
    "    \n",
    "    dlon = lon2 - lon1\n",
    "    dlat = lat2 - lat1\n",
    "    \n",
    "    a = sin(dlat / 2) ** 2 + cos(lat1) * cos(lat2) * sin(dlon / 2) ** 2\n",
    "    c = 2 * atan2(sqrt(a), sqrt(1 - a))\n",
    "    \n",
    "    distance = R * c\n",
    "    return distance"
   ]
  },
  {
   "cell_type": "code",
   "execution_count": null,
   "id": "5c319e55",
   "metadata": {},
   "outputs": [],
   "source": [
    "def calc_total_distance(df):\n",
    "    total_distance = 0\n",
    "    for i in range(1, len(df)):\n",
    "        lat1, lon1 = df['Latitude'][i - 1], df['Longitude'][i - 1]\n",
    "        lat2, lon2 = df['Latitude'][i], df['Longitude'][i]\n",
    "\n",
    "        seg_distance = haversine(lat1, lon1, lat2, lon2)\n",
    "        total_distance += seg_distance\n",
    "        \n",
    "    return total_distance"
   ]
  },
  {
   "cell_type": "code",
   "execution_count": 189,
   "id": "c3f5aede",
   "metadata": {},
   "outputs": [],
   "source": [
    "def calc_moving_time(df):\n",
    "    return df['TimeDiff'].sum()"
   ]
  },
  {
   "cell_type": "code",
   "execution_count": 195,
   "id": "adf9d25c",
   "metadata": {},
   "outputs": [],
   "source": [
    "def elevation_info(df):\n",
    "    total_ascent = df['AltitudeChange'][df['AltitudeChange'] > 0].sum()\n",
    "    total_descent = df['AltitudeChange'][df['AltitudeChange'] < 0].sum()\n",
    "    total_change = df['AltitudeChange'].sum()\n",
    "    lowest = df['AltitudeMeters'].min()\n",
    "    highest = df['AltitudeMeters'].max()\n",
    "    \n",
    "    return total_ascent, total_descent, total_change, lowest, highest"
   ]
  },
  {
   "cell_type": "code",
   "execution_count": 213,
   "id": "02e32c73",
   "metadata": {},
   "outputs": [],
   "source": [
    "def speed_info(df):\n",
    "    average = calc_total_distance(df) / (calc_moving_time(df).total_seconds() / 3600)\n",
    "    fastest = df['SegmentSpeed'].max()\n",
    "    slowest = df['SegmentSpeed'].min()\n",
    "    \n",
    "    return average, fastest, slowest"
   ]
  },
  {
   "cell_type": "markdown",
   "id": "86bd5f1a",
   "metadata": {},
   "source": [
    "### Extractions"
   ]
  },
  {
   "cell_type": "code",
   "execution_count": 196,
   "id": "b4641654",
   "metadata": {},
   "outputs": [
    {
     "data": {
      "text/plain": [
       "'The total distance is 84.79457109912336 km/h.'"
      ]
     },
     "execution_count": 196,
     "metadata": {},
     "output_type": "execute_result"
    }
   ],
   "source": [
    "f'The total distance is {calc_total_distance(df)} km/h.'"
   ]
  },
  {
   "cell_type": "code",
   "execution_count": 197,
   "id": "5d0e2626",
   "metadata": {},
   "outputs": [
    {
     "data": {
      "text/plain": [
       "'The total moving time is 0 days 04:04:31'"
      ]
     },
     "execution_count": 197,
     "metadata": {},
     "output_type": "execute_result"
    }
   ],
   "source": [
    "f'The total moving time is {calc_moving_time(df)}'"
   ]
  },
  {
   "cell_type": "code",
   "execution_count": 198,
   "id": "00778c31",
   "metadata": {},
   "outputs": [
    {
     "data": {
      "text/plain": [
       "'The total ascent was 476.24 metres'"
      ]
     },
     "execution_count": 198,
     "metadata": {},
     "output_type": "execute_result"
    }
   ],
   "source": [
    "f'The total ascent was {elevation_info(df)[0]} metres'"
   ]
  },
  {
   "cell_type": "code",
   "execution_count": 199,
   "id": "f247ddee",
   "metadata": {},
   "outputs": [
    {
     "data": {
      "text/plain": [
       "'The total descent was -519.77 metres'"
      ]
     },
     "execution_count": 199,
     "metadata": {},
     "output_type": "execute_result"
    }
   ],
   "source": [
    "f'The total descent was {elevation_info(df)[1]} metres'"
   ]
  },
  {
   "cell_type": "code",
   "execution_count": 200,
   "id": "41273833",
   "metadata": {},
   "outputs": [
    {
     "data": {
      "text/plain": [
       "'The total change was -43.53000000000003 metres'"
      ]
     },
     "execution_count": 200,
     "metadata": {},
     "output_type": "execute_result"
    }
   ],
   "source": [
    "f'The total change was {elevation_info(df)[2]} metres'"
   ]
  },
  {
   "cell_type": "code",
   "execution_count": 201,
   "id": "be2ed378",
   "metadata": {},
   "outputs": [
    {
     "data": {
      "text/plain": [
       "'The lowest altitude was 2.4899999999999998 metres'"
      ]
     },
     "execution_count": 201,
     "metadata": {},
     "output_type": "execute_result"
    }
   ],
   "source": [
    "f'The lowest altitude was {elevation_info(df)[3]} metres'"
   ]
  },
  {
   "cell_type": "code",
   "execution_count": 214,
   "id": "a899bb54",
   "metadata": {},
   "outputs": [
    {
     "data": {
      "text/plain": [
       "'The highest altitude was 248.85000000000002 metres'"
      ]
     },
     "execution_count": 214,
     "metadata": {},
     "output_type": "execute_result"
    }
   ],
   "source": [
    "f'The highest altitude was {elevation_info(df)[4]} metres'"
   ]
  },
  {
   "cell_type": "code",
   "execution_count": 215,
   "id": "1db11f5c",
   "metadata": {},
   "outputs": [
    {
     "data": {
      "text/plain": [
       "'The average speed was 20.807065364109064 km/h'"
      ]
     },
     "execution_count": 215,
     "metadata": {},
     "output_type": "execute_result"
    }
   ],
   "source": [
    "f'The average speed was {speed_info(df)[0]} km/h'"
   ]
  },
  {
   "cell_type": "code",
   "execution_count": 216,
   "id": "14cd8477",
   "metadata": {},
   "outputs": [
    {
     "data": {
      "text/plain": [
       "'The fastest speed was 39.98372614939071 km/h'"
      ]
     },
     "execution_count": 216,
     "metadata": {},
     "output_type": "execute_result"
    }
   ],
   "source": [
    "f'The fastest speed was {speed_info(df)[1]} km/h'"
   ]
  },
  {
   "cell_type": "code",
   "execution_count": 217,
   "id": "4a8516c6",
   "metadata": {},
   "outputs": [
    {
     "data": {
      "text/plain": [
       "'The slowest speed was 1.1349515521869762 km/h'"
      ]
     },
     "execution_count": 217,
     "metadata": {},
     "output_type": "execute_result"
    }
   ],
   "source": [
    "f'The slowest speed was {speed_info(df)[2]} km/h'"
   ]
  }
 ],
 "metadata": {
  "kernelspec": {
   "display_name": "Python 3 (ipykernel)",
   "language": "python",
   "name": "python3"
  },
  "language_info": {
   "codemirror_mode": {
    "name": "ipython",
    "version": 3
   },
   "file_extension": ".py",
   "mimetype": "text/x-python",
   "name": "python",
   "nbconvert_exporter": "python",
   "pygments_lexer": "ipython3",
   "version": "3.10.6"
  },
  "toc": {
   "base_numbering": 1,
   "nav_menu": {},
   "number_sections": true,
   "sideBar": true,
   "skip_h1_title": false,
   "title_cell": "Table of Contents",
   "title_sidebar": "Contents",
   "toc_cell": false,
   "toc_position": {},
   "toc_section_display": true,
   "toc_window_display": false
  }
 },
 "nbformat": 4,
 "nbformat_minor": 5
}
