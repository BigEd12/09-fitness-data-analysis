{
 "cells": [
  {
   "cell_type": "code",
   "execution_count": 47,
   "id": "03a5af05",
   "metadata": {},
   "outputs": [],
   "source": [
    "import pandas as pd\n",
    "import matplotlib.pyplot as plt\n",
    "import plotly.express as px\n",
    "import geopandas as gpd\n",
    "\n",
    "import contextily as ctx\n",
    "\n",
    "import xml.etree.ElementTree as ET"
   ]
  },
  {
   "cell_type": "code",
   "execution_count": 48,
   "id": "f33438ce",
   "metadata": {},
   "outputs": [],
   "source": [
    "tree = ET.parse('data/ride.tcx')\n",
    "root = tree.getroot()"
   ]
  },
  {
   "cell_type": "code",
   "execution_count": 49,
   "id": "447f0180",
   "metadata": {},
   "outputs": [],
   "source": [
    "data = []\n",
    "for trackpoint in root.findall('.//{http://www.garmin.com/xmlschemas/TrainingCenterDatabase/v2}Trackpoint'):\n",
    "    time = trackpoint.find('{http://www.garmin.com/xmlschemas/TrainingCenterDatabase/v2}Time').text\n",
    "    lat = trackpoint.find('{http://www.garmin.com/xmlschemas/TrainingCenterDatabase/v2}Position/{http://www.garmin.com/xmlschemas/TrainingCenterDatabase/v2}LatitudeDegrees').text\n",
    "    lon = trackpoint.find('{http://www.garmin.com/xmlschemas/TrainingCenterDatabase/v2}Position/{http://www.garmin.com/xmlschemas/TrainingCenterDatabase/v2}LongitudeDegrees').text\n",
    "    altitude = trackpoint.find('{http://www.garmin.com/xmlschemas/TrainingCenterDatabase/v2}AltitudeMeters').text\n",
    "    distance = trackpoint.find('{http://www.garmin.com/xmlschemas/TrainingCenterDatabase/v2}DistanceMeters').text\n",
    "    data.append([time, float(lat), float(lon), float(altitude), float(distance)])\n",
    "\n",
    "df = pd.DataFrame(data, columns=['Time', 'Latitude', 'Longitude', 'AltitudeMeters', 'DistanceMeters'])\n"
   ]
  },
  {
   "cell_type": "code",
   "execution_count": 50,
   "id": "2e797e4e",
   "metadata": {
    "scrolled": true
   },
   "outputs": [
    {
     "data": {
      "text/html": [
       "<div>\n",
       "<style scoped>\n",
       "    .dataframe tbody tr th:only-of-type {\n",
       "        vertical-align: middle;\n",
       "    }\n",
       "\n",
       "    .dataframe tbody tr th {\n",
       "        vertical-align: top;\n",
       "    }\n",
       "\n",
       "    .dataframe thead th {\n",
       "        text-align: right;\n",
       "    }\n",
       "</style>\n",
       "<table border=\"1\" class=\"dataframe\">\n",
       "  <thead>\n",
       "    <tr style=\"text-align: right;\">\n",
       "      <th></th>\n",
       "      <th>Time</th>\n",
       "      <th>Latitude</th>\n",
       "      <th>Longitude</th>\n",
       "      <th>AltitudeMeters</th>\n",
       "      <th>DistanceMeters</th>\n",
       "    </tr>\n",
       "  </thead>\n",
       "  <tbody>\n",
       "    <tr>\n",
       "      <th>0</th>\n",
       "      <td>2023-09-22T22:41:40+00:00</td>\n",
       "      <td>37.998980</td>\n",
       "      <td>-1.13315</td>\n",
       "      <td>46.02</td>\n",
       "      <td>0.000000</td>\n",
       "    </tr>\n",
       "    <tr>\n",
       "      <th>1</th>\n",
       "      <td>2023-09-22T22:41:49+00:00</td>\n",
       "      <td>37.998233</td>\n",
       "      <td>-1.13288</td>\n",
       "      <td>45.98</td>\n",
       "      <td>86.408879</td>\n",
       "    </tr>\n",
       "    <tr>\n",
       "      <th>2</th>\n",
       "      <td>2023-09-22T22:41:59+00:00</td>\n",
       "      <td>37.997487</td>\n",
       "      <td>-1.13261</td>\n",
       "      <td>45.68</td>\n",
       "      <td>172.817758</td>\n",
       "    </tr>\n",
       "    <tr>\n",
       "      <th>3</th>\n",
       "      <td>2023-09-22T22:42:09+00:00</td>\n",
       "      <td>37.996740</td>\n",
       "      <td>-1.13234</td>\n",
       "      <td>43.00</td>\n",
       "      <td>259.226638</td>\n",
       "    </tr>\n",
       "    <tr>\n",
       "      <th>4</th>\n",
       "      <td>2023-09-22T22:42:19+00:00</td>\n",
       "      <td>37.996590</td>\n",
       "      <td>-1.13301</td>\n",
       "      <td>43.69</td>\n",
       "      <td>320.315240</td>\n",
       "    </tr>\n",
       "  </tbody>\n",
       "</table>\n",
       "</div>"
      ],
      "text/plain": [
       "                        Time   Latitude  Longitude  AltitudeMeters  \\\n",
       "0  2023-09-22T22:41:40+00:00  37.998980   -1.13315           46.02   \n",
       "1  2023-09-22T22:41:49+00:00  37.998233   -1.13288           45.98   \n",
       "2  2023-09-22T22:41:59+00:00  37.997487   -1.13261           45.68   \n",
       "3  2023-09-22T22:42:09+00:00  37.996740   -1.13234           43.00   \n",
       "4  2023-09-22T22:42:19+00:00  37.996590   -1.13301           43.69   \n",
       "\n",
       "   DistanceMeters  \n",
       "0        0.000000  \n",
       "1       86.408879  \n",
       "2      172.817758  \n",
       "3      259.226638  \n",
       "4      320.315240  "
      ]
     },
     "execution_count": 50,
     "metadata": {},
     "output_type": "execute_result"
    }
   ],
   "source": [
    "df.head()"
   ]
  },
  {
   "cell_type": "markdown",
   "id": "5e667e08",
   "metadata": {},
   "source": [
    "# Calculating the distance"
   ]
  },
  {
   "cell_type": "code",
   "execution_count": 51,
   "id": "98adbbd4",
   "metadata": {},
   "outputs": [],
   "source": [
    "import pandas as pd\n",
    "from math import radians, sin, cos, sqrt, atan2"
   ]
  },
  {
   "cell_type": "code",
   "execution_count": 52,
   "id": "1f678ecf",
   "metadata": {},
   "outputs": [],
   "source": [
    "def haversine(lat1, lon1, lat2, lon2):\n",
    "    R = 6371\n",
    "    \n",
    "    lat1 = radians(lat1)\n",
    "    lon1 = radians(lon1)\n",
    "    lat2 = radians(lat2)\n",
    "    lon2 = radians(lon2)\n",
    "    \n",
    "    dlon = lon2 - lon1\n",
    "    dlat = lat2 - lat1\n",
    "    \n",
    "    a = sin(dlat / 2) ** 2 + cos(lat1) * cos(lat2) * sin(dlon / 2) ** 2\n",
    "    c = 2 * atan2(sqrt(a), sqrt(1 - a))\n",
    "    \n",
    "    distance = R * c\n",
    "    return distance"
   ]
  },
  {
   "cell_type": "code",
   "execution_count": 53,
   "id": "5a159764",
   "metadata": {},
   "outputs": [
    {
     "data": {
      "text/plain": [
       "'Total Distance: 84.79 km'"
      ]
     },
     "execution_count": 53,
     "metadata": {},
     "output_type": "execute_result"
    }
   ],
   "source": [
    "total_distance = 0\n",
    "for i in range(1, len(df)):\n",
    "    lat1, lon1 = df['Latitude'][i - 1], df['Longitude'][i - 1]\n",
    "    lat2, lon2 = df['Latitude'][i], df['Longitude'][i]\n",
    "    \n",
    "    seg_distance = haversine(lat1, lon1, lat2, lon2)\n",
    "    total_distance += seg_distance\n",
    "    \n",
    "f\"Total Distance: {total_distance:.2f} km\""
   ]
  },
  {
   "cell_type": "markdown",
   "id": "a80337e9",
   "metadata": {},
   "source": [
    "# Calculating the duration"
   ]
  },
  {
   "cell_type": "code",
   "execution_count": 54,
   "id": "541a2c7a",
   "metadata": {},
   "outputs": [
    {
     "data": {
      "text/html": [
       "<div>\n",
       "<style scoped>\n",
       "    .dataframe tbody tr th:only-of-type {\n",
       "        vertical-align: middle;\n",
       "    }\n",
       "\n",
       "    .dataframe tbody tr th {\n",
       "        vertical-align: top;\n",
       "    }\n",
       "\n",
       "    .dataframe thead th {\n",
       "        text-align: right;\n",
       "    }\n",
       "</style>\n",
       "<table border=\"1\" class=\"dataframe\">\n",
       "  <thead>\n",
       "    <tr style=\"text-align: right;\">\n",
       "      <th></th>\n",
       "      <th>Time</th>\n",
       "      <th>Latitude</th>\n",
       "      <th>Longitude</th>\n",
       "      <th>AltitudeMeters</th>\n",
       "      <th>DistanceMeters</th>\n",
       "    </tr>\n",
       "  </thead>\n",
       "  <tbody>\n",
       "    <tr>\n",
       "      <th>0</th>\n",
       "      <td>2023-09-22T22:41:40+00:00</td>\n",
       "      <td>37.998980</td>\n",
       "      <td>-1.13315</td>\n",
       "      <td>46.02</td>\n",
       "      <td>0.000000</td>\n",
       "    </tr>\n",
       "    <tr>\n",
       "      <th>1</th>\n",
       "      <td>2023-09-22T22:41:49+00:00</td>\n",
       "      <td>37.998233</td>\n",
       "      <td>-1.13288</td>\n",
       "      <td>45.98</td>\n",
       "      <td>86.408879</td>\n",
       "    </tr>\n",
       "    <tr>\n",
       "      <th>2</th>\n",
       "      <td>2023-09-22T22:41:59+00:00</td>\n",
       "      <td>37.997487</td>\n",
       "      <td>-1.13261</td>\n",
       "      <td>45.68</td>\n",
       "      <td>172.817758</td>\n",
       "    </tr>\n",
       "    <tr>\n",
       "      <th>3</th>\n",
       "      <td>2023-09-22T22:42:09+00:00</td>\n",
       "      <td>37.996740</td>\n",
       "      <td>-1.13234</td>\n",
       "      <td>43.00</td>\n",
       "      <td>259.226638</td>\n",
       "    </tr>\n",
       "    <tr>\n",
       "      <th>4</th>\n",
       "      <td>2023-09-22T22:42:19+00:00</td>\n",
       "      <td>37.996590</td>\n",
       "      <td>-1.13301</td>\n",
       "      <td>43.69</td>\n",
       "      <td>320.315240</td>\n",
       "    </tr>\n",
       "  </tbody>\n",
       "</table>\n",
       "</div>"
      ],
      "text/plain": [
       "                        Time   Latitude  Longitude  AltitudeMeters  \\\n",
       "0  2023-09-22T22:41:40+00:00  37.998980   -1.13315           46.02   \n",
       "1  2023-09-22T22:41:49+00:00  37.998233   -1.13288           45.98   \n",
       "2  2023-09-22T22:41:59+00:00  37.997487   -1.13261           45.68   \n",
       "3  2023-09-22T22:42:09+00:00  37.996740   -1.13234           43.00   \n",
       "4  2023-09-22T22:42:19+00:00  37.996590   -1.13301           43.69   \n",
       "\n",
       "   DistanceMeters  \n",
       "0        0.000000  \n",
       "1       86.408879  \n",
       "2      172.817758  \n",
       "3      259.226638  \n",
       "4      320.315240  "
      ]
     },
     "execution_count": 54,
     "metadata": {},
     "output_type": "execute_result"
    }
   ],
   "source": [
    "df.head()"
   ]
  },
  {
   "cell_type": "code",
   "execution_count": 55,
   "id": "442cbffa",
   "metadata": {},
   "outputs": [],
   "source": [
    "df['Time'] = pd.to_datetime(df['Time'])"
   ]
  },
  {
   "cell_type": "code",
   "execution_count": 56,
   "id": "aa4e0d25",
   "metadata": {},
   "outputs": [
    {
     "data": {
      "text/plain": [
       "'Total Moving Time: 0 days 04:04:31'"
      ]
     },
     "metadata": {},
     "output_type": "display_data"
    }
   ],
   "source": [
    "df = df.sort_values(by='Time')\n",
    "df['TimeDiff'] = df['Time'].diff()\n",
    "total_moving_time = df['TimeDiff'].sum()\n",
    "\n",
    "display(f\"Total Moving Time: {total_moving_time}\")\n"
   ]
  },
  {
   "cell_type": "markdown",
   "id": "61590e43",
   "metadata": {},
   "source": [
    "# Calculate elevation loss/gain"
   ]
  },
  {
   "cell_type": "code",
   "execution_count": 57,
   "id": "79997e4e",
   "metadata": {},
   "outputs": [
    {
     "data": {
      "text/html": [
       "<div>\n",
       "<style scoped>\n",
       "    .dataframe tbody tr th:only-of-type {\n",
       "        vertical-align: middle;\n",
       "    }\n",
       "\n",
       "    .dataframe tbody tr th {\n",
       "        vertical-align: top;\n",
       "    }\n",
       "\n",
       "    .dataframe thead th {\n",
       "        text-align: right;\n",
       "    }\n",
       "</style>\n",
       "<table border=\"1\" class=\"dataframe\">\n",
       "  <thead>\n",
       "    <tr style=\"text-align: right;\">\n",
       "      <th></th>\n",
       "      <th>Time</th>\n",
       "      <th>Latitude</th>\n",
       "      <th>Longitude</th>\n",
       "      <th>AltitudeMeters</th>\n",
       "      <th>DistanceMeters</th>\n",
       "      <th>TimeDiff</th>\n",
       "    </tr>\n",
       "  </thead>\n",
       "  <tbody>\n",
       "    <tr>\n",
       "      <th>0</th>\n",
       "      <td>2023-09-22 22:41:40+00:00</td>\n",
       "      <td>37.998980</td>\n",
       "      <td>-1.13315</td>\n",
       "      <td>46.02</td>\n",
       "      <td>0.000000</td>\n",
       "      <td>NaT</td>\n",
       "    </tr>\n",
       "    <tr>\n",
       "      <th>1</th>\n",
       "      <td>2023-09-22 22:41:49+00:00</td>\n",
       "      <td>37.998233</td>\n",
       "      <td>-1.13288</td>\n",
       "      <td>45.98</td>\n",
       "      <td>86.408879</td>\n",
       "      <td>0 days 00:00:09</td>\n",
       "    </tr>\n",
       "    <tr>\n",
       "      <th>2</th>\n",
       "      <td>2023-09-22 22:41:59+00:00</td>\n",
       "      <td>37.997487</td>\n",
       "      <td>-1.13261</td>\n",
       "      <td>45.68</td>\n",
       "      <td>172.817758</td>\n",
       "      <td>0 days 00:00:10</td>\n",
       "    </tr>\n",
       "    <tr>\n",
       "      <th>3</th>\n",
       "      <td>2023-09-22 22:42:09+00:00</td>\n",
       "      <td>37.996740</td>\n",
       "      <td>-1.13234</td>\n",
       "      <td>43.00</td>\n",
       "      <td>259.226638</td>\n",
       "      <td>0 days 00:00:10</td>\n",
       "    </tr>\n",
       "    <tr>\n",
       "      <th>4</th>\n",
       "      <td>2023-09-22 22:42:19+00:00</td>\n",
       "      <td>37.996590</td>\n",
       "      <td>-1.13301</td>\n",
       "      <td>43.69</td>\n",
       "      <td>320.315240</td>\n",
       "      <td>0 days 00:00:10</td>\n",
       "    </tr>\n",
       "  </tbody>\n",
       "</table>\n",
       "</div>"
      ],
      "text/plain": [
       "                       Time   Latitude  Longitude  AltitudeMeters  \\\n",
       "0 2023-09-22 22:41:40+00:00  37.998980   -1.13315           46.02   \n",
       "1 2023-09-22 22:41:49+00:00  37.998233   -1.13288           45.98   \n",
       "2 2023-09-22 22:41:59+00:00  37.997487   -1.13261           45.68   \n",
       "3 2023-09-22 22:42:09+00:00  37.996740   -1.13234           43.00   \n",
       "4 2023-09-22 22:42:19+00:00  37.996590   -1.13301           43.69   \n",
       "\n",
       "   DistanceMeters        TimeDiff  \n",
       "0        0.000000             NaT  \n",
       "1       86.408879 0 days 00:00:09  \n",
       "2      172.817758 0 days 00:00:10  \n",
       "3      259.226638 0 days 00:00:10  \n",
       "4      320.315240 0 days 00:00:10  "
      ]
     },
     "execution_count": 57,
     "metadata": {},
     "output_type": "execute_result"
    }
   ],
   "source": [
    "df.head()"
   ]
  },
  {
   "cell_type": "code",
   "execution_count": 58,
   "id": "a5220cf5",
   "metadata": {},
   "outputs": [
    {
     "data": {
      "text/html": [
       "<div>\n",
       "<style scoped>\n",
       "    .dataframe tbody tr th:only-of-type {\n",
       "        vertical-align: middle;\n",
       "    }\n",
       "\n",
       "    .dataframe tbody tr th {\n",
       "        vertical-align: top;\n",
       "    }\n",
       "\n",
       "    .dataframe thead th {\n",
       "        text-align: right;\n",
       "    }\n",
       "</style>\n",
       "<table border=\"1\" class=\"dataframe\">\n",
       "  <thead>\n",
       "    <tr style=\"text-align: right;\">\n",
       "      <th></th>\n",
       "      <th>Time</th>\n",
       "      <th>Latitude</th>\n",
       "      <th>Longitude</th>\n",
       "      <th>AltitudeMeters</th>\n",
       "      <th>DistanceMeters</th>\n",
       "      <th>TimeDiff</th>\n",
       "      <th>AltitudeChange</th>\n",
       "    </tr>\n",
       "  </thead>\n",
       "  <tbody>\n",
       "    <tr>\n",
       "      <th>0</th>\n",
       "      <td>2023-09-22 22:41:40+00:00</td>\n",
       "      <td>37.998980</td>\n",
       "      <td>-1.13315</td>\n",
       "      <td>46.02</td>\n",
       "      <td>0.000000</td>\n",
       "      <td>NaT</td>\n",
       "      <td>NaN</td>\n",
       "    </tr>\n",
       "    <tr>\n",
       "      <th>1</th>\n",
       "      <td>2023-09-22 22:41:49+00:00</td>\n",
       "      <td>37.998233</td>\n",
       "      <td>-1.13288</td>\n",
       "      <td>45.98</td>\n",
       "      <td>86.408879</td>\n",
       "      <td>0 days 00:00:09</td>\n",
       "      <td>-0.04</td>\n",
       "    </tr>\n",
       "    <tr>\n",
       "      <th>2</th>\n",
       "      <td>2023-09-22 22:41:59+00:00</td>\n",
       "      <td>37.997487</td>\n",
       "      <td>-1.13261</td>\n",
       "      <td>45.68</td>\n",
       "      <td>172.817758</td>\n",
       "      <td>0 days 00:00:10</td>\n",
       "      <td>-0.30</td>\n",
       "    </tr>\n",
       "    <tr>\n",
       "      <th>3</th>\n",
       "      <td>2023-09-22 22:42:09+00:00</td>\n",
       "      <td>37.996740</td>\n",
       "      <td>-1.13234</td>\n",
       "      <td>43.00</td>\n",
       "      <td>259.226638</td>\n",
       "      <td>0 days 00:00:10</td>\n",
       "      <td>-2.68</td>\n",
       "    </tr>\n",
       "    <tr>\n",
       "      <th>4</th>\n",
       "      <td>2023-09-22 22:42:19+00:00</td>\n",
       "      <td>37.996590</td>\n",
       "      <td>-1.13301</td>\n",
       "      <td>43.69</td>\n",
       "      <td>320.315240</td>\n",
       "      <td>0 days 00:00:10</td>\n",
       "      <td>0.69</td>\n",
       "    </tr>\n",
       "  </tbody>\n",
       "</table>\n",
       "</div>"
      ],
      "text/plain": [
       "                       Time   Latitude  Longitude  AltitudeMeters  \\\n",
       "0 2023-09-22 22:41:40+00:00  37.998980   -1.13315           46.02   \n",
       "1 2023-09-22 22:41:49+00:00  37.998233   -1.13288           45.98   \n",
       "2 2023-09-22 22:41:59+00:00  37.997487   -1.13261           45.68   \n",
       "3 2023-09-22 22:42:09+00:00  37.996740   -1.13234           43.00   \n",
       "4 2023-09-22 22:42:19+00:00  37.996590   -1.13301           43.69   \n",
       "\n",
       "   DistanceMeters        TimeDiff  AltitudeChange  \n",
       "0        0.000000             NaT             NaN  \n",
       "1       86.408879 0 days 00:00:09           -0.04  \n",
       "2      172.817758 0 days 00:00:10           -0.30  \n",
       "3      259.226638 0 days 00:00:10           -2.68  \n",
       "4      320.315240 0 days 00:00:10            0.69  "
      ]
     },
     "execution_count": 58,
     "metadata": {},
     "output_type": "execute_result"
    }
   ],
   "source": [
    "df['AltitudeChange'] = df['AltitudeMeters'].diff()\n",
    "df.head()"
   ]
  },
  {
   "cell_type": "code",
   "execution_count": 68,
   "id": "c35aa201",
   "metadata": {},
   "outputs": [
    {
     "data": {
      "text/plain": [
       "2.4899999999999998"
      ]
     },
     "execution_count": 68,
     "metadata": {},
     "output_type": "execute_result"
    }
   ],
   "source": [
    "total_ascent = df['AltitudeChange'][df['AltitudeChange'] > 0].sum()\n",
    "total_descent = df['AltitudeChange'][df['AltitudeChange'] < 0].sum()\n",
    "total_change = df['AltitudeChange'].sum()\n",
    "lowest = df['AltitudeMeters'].min()\n",
    "highest = df['AltitudeMeters'].max()"
   ]
  },
  {
   "cell_type": "code",
   "execution_count": null,
   "id": "70063122",
   "metadata": {},
   "outputs": [],
   "source": []
  },
  {
   "cell_type": "code",
   "execution_count": null,
   "id": "0b0b1e1a",
   "metadata": {},
   "outputs": [],
   "source": []
  },
  {
   "cell_type": "code",
   "execution_count": null,
   "id": "0c7f0428",
   "metadata": {},
   "outputs": [],
   "source": []
  },
  {
   "cell_type": "code",
   "execution_count": null,
   "id": "8d4e025b",
   "metadata": {},
   "outputs": [],
   "source": []
  }
 ],
 "metadata": {
  "kernelspec": {
   "display_name": "Python 3 (ipykernel)",
   "language": "python",
   "name": "python3"
  },
  "language_info": {
   "codemirror_mode": {
    "name": "ipython",
    "version": 3
   },
   "file_extension": ".py",
   "mimetype": "text/x-python",
   "name": "python",
   "nbconvert_exporter": "python",
   "pygments_lexer": "ipython3",
   "version": "3.10.6"
  },
  "toc": {
   "base_numbering": 1,
   "nav_menu": {},
   "number_sections": true,
   "sideBar": true,
   "skip_h1_title": false,
   "title_cell": "Table of Contents",
   "title_sidebar": "Contents",
   "toc_cell": false,
   "toc_position": {},
   "toc_section_display": true,
   "toc_window_display": false
  }
 },
 "nbformat": 4,
 "nbformat_minor": 5
}
